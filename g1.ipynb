{
 "cells": [
  {
   "cell_type": "code",
   "execution_count": 2,
   "metadata": {},
   "outputs": [],
   "source": [
    "from nba_api.stats.static import teams\n",
    "import pandas as pd \n"
   ]
  },
  {
   "cell_type": "code",
   "execution_count": 4,
   "metadata": {},
   "outputs": [],
   "source": [
    "OKC_data  = teams.find_teams_by_full_name(\"Oklahoma City Thunder\")\n",
    "OKC_id = OKC_data[0]['id'] # 1610612760 team id \n",
    "\n",
    "PAC_data = teams.find_teams_by_full_name(\"Indiana Pacers\")\n",
    "PAC_id = PAC_data[0]['id'] # 1610612754 team id "
   ]
  },
  {
   "cell_type": "code",
   "execution_count": 5,
   "metadata": {},
   "outputs": [],
   "source": [
    "from nba_api.stats.endpoints import leaguegamefinder\n",
    "\n",
    "finder = leaguegamefinder.LeagueGameFinder(\n",
    "player_or_team_abbreviation= \"T\",\n",
    "team_id_nullable=1610612760,\n",
    "date_from_nullable=\"06/05/2025\",\n",
    "date_to_nullable=\"06/05/2025\"\n",
    ")\n",
    "\n",
    "g1 = finder.get_data_frames()[0] \n",
    "g1_id= g1[\"GAME_ID\"] #0042400401\t\n"
   ]
  },
  {
   "cell_type": "markdown",
   "metadata": {},
   "source": [
    "# Players Data"
   ]
  },
  {
   "cell_type": "code",
   "execution_count": 6,
   "metadata": {},
   "outputs": [],
   "source": [
    "from nba_api.stats.endpoints import boxscoretraditionalv2\n",
    "box = boxscoretraditionalv2.BoxScoreTraditionalV2(game_id=g1_id)\n",
    "players = box.player_stats.get_data_frame()\n",
    "players.to_csv(\"player_data.csv\")"
   ]
  },
  {
   "cell_type": "markdown",
   "metadata": {},
   "source": [
    "# Team Data"
   ]
  },
  {
   "cell_type": "code",
   "execution_count": 7,
   "metadata": {},
   "outputs": [],
   "source": [
    "teams = box.team_stats.get_data_frame()\n",
    "teams.to_csv(\"team_data.csv\")"
   ]
  },
  {
   "cell_type": "markdown",
   "metadata": {},
   "source": [
    "# Advanced player and team stats"
   ]
  },
  {
   "cell_type": "code",
   "execution_count": 8,
   "metadata": {},
   "outputs": [],
   "source": [
    "from nba_api.stats.endpoints import boxscoreadvancedv2\n",
    "adv_box = boxscoreadvancedv2.BoxScoreAdvancedV2(game_id=g1_id)\n",
    "adv_player_df = adv_box.player_stats.get_data_frame() #advanced player stats\n",
    "\n",
    "adv_team_df = adv_box.team_stats.get_data_frame()\n",
    "adv_team_df.to_csv(\"adv_team.csv\")#advanced team stats"
   ]
  },
  {
   "cell_type": "code",
   "execution_count": 9,
   "metadata": {},
   "outputs": [],
   "source": [
    "adv_player_df.to_csv(\"adv_players.csv\")"
   ]
  },
  {
   "cell_type": "markdown",
   "metadata": {},
   "source": [
    "# Play by play data"
   ]
  },
  {
   "cell_type": "code",
   "execution_count": 10,
   "metadata": {},
   "outputs": [],
   "source": [
    "from nba_api.stats.endpoints import playbyplayv2\n",
    "pbp = playbyplayv2.PlayByPlayV2(game_id=g1_id)\n",
    "pbp_df = pbp.get_data_frames()[0]\n",
    "pbp_df # play by play stats \n",
    "pbp_df.to_csv(\"plays.csv\")"
   ]
  },
  {
   "cell_type": "markdown",
   "metadata": {},
   "source": [
    "# Hustle stats"
   ]
  },
  {
   "cell_type": "code",
   "execution_count": null,
   "metadata": {},
   "outputs": [],
   "source": [
    "from nba_api.stats.endpoints import BoxScoreHustleV2\n",
    "\n",
    "hustle = BoxScoreHustleV2(game_id=g1_id)\n",
    "hustle_df = hustle.get_data_frames()[0]\n",
    "hustle_df.to_csv(\"hustle.csv\")"
   ]
  },
  {
   "cell_type": "markdown",
   "metadata": {},
   "source": [
    "# Win Probability PBP"
   ]
  },
  {
   "cell_type": "code",
   "execution_count": 32,
   "metadata": {},
   "outputs": [],
   "source": [
    "from nba_api.stats.endpoints import WinProbabilityPBP\n",
    "\n",
    "w_pct_pbp = WinProbabilityPBP(game_id=g1_id,run_type=\"each second\")\n",
    "w_pct_pbp_df = w_pct_pbp.get_data_frames()[0]\n",
    "w_pct_pbp_df.to_csv(\"win_prob.csv\")"
   ]
  },
  {
   "cell_type": "code",
   "execution_count": 48,
   "metadata": {},
   "outputs": [],
   "source": [
    "from nba_api.stats.endpoints import CommonTeamRoster, ShotChartDetail\n",
    "\n",
    "team_id     = PAC_id        \n",
    "season      = '2024-25'            # full season string\n",
    "season_type = 'Playoffs'           # 'Regular Season' | 'Pre Season' | 'Playoffs' | 'All Star'\n",
    "game_id     = g1_id        \n",
    "# ────────────────────────────────────────────────────────────────────────────────\n",
    "\n",
    "# 1. Fetch the team’s roster for the season\n",
    "roster = CommonTeamRoster(team_id=team_id, season=season)\n",
    "roster_df = roster.get_data_frames()[0]\n",
    "player_ids = roster_df['PLAYER_ID'].tolist()\n",
    "\n",
    "# 2. Loop through each player and pull their shot chart detail for that game\n",
    "shots_list = []\n",
    "for pid in player_ids:\n",
    "    shot_detail = ShotChartDetail(\n",
    "        context_measure_simple   = 'PTS',\n",
    "        last_n_games             = 0,\n",
    "        league_id                = '00',\n",
    "        season_type_all_star     = season_type,\n",
    "        season_nullable          = season,\n",
    "        team_id                  = 0,\n",
    "        player_id                = pid,\n",
    "        game_id_nullable         = game_id,\n",
    "        date_from_nullable       = '06/05/2025',\n",
    "        date_to_nullable         = '06/05/2025',\n",
    "        game_segment_nullable    = '',\n",
    "        period                   = 0,\n",
    "        outcome_nullable         = '',\n",
    "        location_nullable        = '',\n",
    "        month                    = 0,\n",
    "        vs_conference_nullable   = '',\n",
    "        vs_division_nullable     = '',\n",
    "        opponent_team_id         = 0,\n",
    "        rookie_year_nullable     = '',\n",
    "        season_segment_nullable  = '',\n",
    "        start_period_nullable    = '',\n",
    "        end_period_nullable      = '',\n",
    "        start_range_nullable     = '',\n",
    "        end_range_nullable       = '',\n",
    "        range_type_nullable      = '',\n",
    "        point_diff_nullable      = '',\n",
    "        position_nullable        = '',\n",
    "        player_position_nullable = ''\n",
    "    )\n",
    "    # [0] = LeagueAverages, [1] = Shot_Chart_Detail\n",
    "    _, df_shots = shot_detail.get_data_frames()\n",
    "    if not df_shots.empty:\n",
    "        shots_list.append(df_shots)\n",
    "team_shot_detail_df = pd.concat(shots_list, ignore_index=True)"
   ]
  },
  {
   "cell_type": "markdown",
   "metadata": {},
   "source": [
    "# Four Factors"
   ]
  },
  {
   "cell_type": "code",
   "execution_count": 37,
   "metadata": {},
   "outputs": [],
   "source": [
    "from nba_api.stats.endpoints import boxscorefourfactorsv2\n",
    "start_period = 1             # period to start (1 = Q1)\n",
    "end_period   = 4             # period to end (4 = Q4; use 5 for OT if needed)\n",
    "range_type   = 0             # 0 = entire period range\n",
    "start_range  = 0             # seconds into period to start (0 = beginning)\n",
    "end_range    = 0             # seconds into period to end (0 = full period)\n",
    "\n",
    "four_factors = boxscorefourfactorsv2.BoxScoreFourFactorsV2(\n",
    "    game_id    = g1_id,\n",
    "    start_period = start_period,\n",
    "    end_period   = end_period,\n",
    "    range_type   = range_type,\n",
    "    start_range  = start_range,\n",
    "    end_range    = end_range\n",
    ")\n",
    "\n",
    "\n",
    "players_four_factors, teams_four_factors = four_factors.get_data_frames()\n",
    "\n",
    "players_four_factors.to_csv(\"players_four_factors.csv\")"
   ]
  },
  {
   "cell_type": "code",
   "execution_count": 38,
   "metadata": {},
   "outputs": [],
   "source": [
    "teams_four_factors.to_csv(\"teams_four_factors.csv\")"
   ]
  }
 ],
 "metadata": {
  "kernelspec": {
   "display_name": "base",
   "language": "python",
   "name": "python3"
  },
  "language_info": {
   "codemirror_mode": {
    "name": "ipython",
    "version": 3
   },
   "file_extension": ".py",
   "mimetype": "text/x-python",
   "name": "python",
   "nbconvert_exporter": "python",
   "pygments_lexer": "ipython3",
   "version": "3.12.2"
  }
 },
 "nbformat": 4,
 "nbformat_minor": 2
}
